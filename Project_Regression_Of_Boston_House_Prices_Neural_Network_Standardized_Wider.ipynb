{
  "nbformat": 4,
  "nbformat_minor": 0,
  "metadata": {
    "colab": {
      "name": "Project: Regression Of Boston House Prices_Neural_Network_Standardized_Wider.ipynb",
      "provenance": [],
      "authorship_tag": "ABX9TyOCaZiUiG3sBxKdj5XLMyhC",
      "include_colab_link": true
    },
    "kernelspec": {
      "name": "python3",
      "display_name": "Python 3"
    },
    "language_info": {
      "name": "python"
    }
  },
  "cells": [
    {
      "cell_type": "markdown",
      "metadata": {
        "id": "view-in-github",
        "colab_type": "text"
      },
      "source": [
        "<a href=\"https://colab.research.google.com/github/Aboubacar2012/Deep-Learning-Training/blob/main/Project_Regression_Of_Boston_House_Prices_Neural_Network_Standardized_Wider.ipynb\" target=\"_parent\"><img src=\"https://colab.research.google.com/assets/colab-badge.svg\" alt=\"Open In Colab\"/></a>"
      ]
    },
    {
      "cell_type": "markdown",
      "source": [
        "# Evaluate a Wider Network Topology"
      ],
      "metadata": {
        "id": "o2hFymohBYht"
      }
    },
    {
      "cell_type": "markdown",
      "source": [
        "Another approach to increasing the representational capacity of the model is to create a wider\n",
        "network. In this section we evaluate the e↵ect of keeping a shallow network architecture and\n",
        "nearly doubling the number of neurons in the one hidden layer. Again, all we need to do is define\n",
        "a new function that creates our neural network model. Here, we have increased the number of\n",
        "neurons in the hidden layer compared to the baseline model from 13 to 20. The topology for\n",
        "our wider network can be summarized as follows:"
      ],
      "metadata": {
        "id": "-6Aco61LBd_r"
      }
    },
    {
      "cell_type": "markdown",
      "source": [
        "13 inputs -> [20] -> 1 output"
      ],
      "metadata": {
        "id": "3VfH7kUgBj91"
      }
    },
    {
      "cell_type": "code",
      "execution_count": 1,
      "metadata": {
        "colab": {
          "base_uri": "https://localhost:8080/"
        },
        "id": "-d953ZWGBL7e",
        "outputId": "e795099c-fc36-419f-b9d7-36604ab625c9"
      },
      "outputs": [
        {
          "output_type": "stream",
          "name": "stdout",
          "text": [
            "Wider: -13.12 (6.63) MSE\n"
          ]
        }
      ],
      "source": [
        "# Regression Example With Boston Dataset: Standardized and Wider\n",
        "import numpy\n",
        "import pandas\n",
        "from keras.models import Sequential\n",
        "from keras.layers import Dense\n",
        "from keras.wrappers.scikit_learn import KerasRegressor\n",
        "from sklearn.model_selection import cross_val_score\n",
        "from sklearn.model_selection import KFold\n",
        "from sklearn.preprocessing import StandardScaler\n",
        "from sklearn.pipeline import Pipeline\n",
        "import warnings\n",
        "warnings.filterwarnings('ignore')\n",
        "# load dataset\n",
        "# load dataset\n",
        "dataframe = pandas.read_csv(\"https://archive.ics.uci.edu/ml/machine-learning-databases/housing/housing.data\", \n",
        "                            delim_whitespace=True, header=None)\n",
        "\n",
        "\n",
        "dataset = dataframe.values\n",
        "# split into input (X) and output (Y) variables\n",
        "X = dataset[:,0:13]\n",
        "Y = dataset[:,13]\n",
        "# define the model\n",
        "def wider_model():\n",
        "  # create model\n",
        "  model = Sequential()\n",
        "  model.add(Dense(20, input_dim=13, kernel_initializer='normal' , activation='relu'))\n",
        "  model.add(Dense(1, kernel_initializer='normal'))\n",
        "  # Compile model\n",
        "  model.compile(loss= 'mean_squared_error' , optimizer='adam')\n",
        "  return model\n",
        "\n",
        "# fix random seed for reproducibility\n",
        "seed = 7\n",
        "numpy.random.seed(seed)\n",
        "\n",
        "# evaluate model with standardized dataset\n",
        "estimators = []\n",
        "estimators.append(('standardize' , StandardScaler()))\n",
        "estimators.append(('mlp' , KerasRegressor(build_fn=wider_model, epochs=100, batch_size=5,\n",
        "verbose=0)))\n",
        "\n",
        "pipeline = Pipeline(estimators)\n",
        "kfold = KFold(n_splits=10, random_state=seed, shuffle=True)\n",
        "results = cross_val_score(pipeline, X, Y, cv=kfold)\n",
        "print(\"Wider: %.2f (%.2f) MSE\" % (results.mean(), results.std()))"
      ]
    }
  ]
}