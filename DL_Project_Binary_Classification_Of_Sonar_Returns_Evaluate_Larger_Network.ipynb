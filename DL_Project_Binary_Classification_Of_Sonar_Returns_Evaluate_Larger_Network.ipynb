{
  "nbformat": 4,
  "nbformat_minor": 0,
  "metadata": {
    "colab": {
      "name": "DL-Project: Binary Classification Of Sonar Returns_Evaluate_Larger_Network.ipynb",
      "provenance": [],
      "authorship_tag": "ABX9TyP2RUvjj83Z9Mef/vgylsla",
      "include_colab_link": true
    },
    "kernelspec": {
      "name": "python3",
      "display_name": "Python 3"
    },
    "language_info": {
      "name": "python"
    }
  },
  "cells": [
    {
      "cell_type": "markdown",
      "metadata": {
        "id": "view-in-github",
        "colab_type": "text"
      },
      "source": [
        "<a href=\"https://colab.research.google.com/github/Aboubacar2012/Deep-Learning-Training/blob/main/DL_Project_Binary_Classification_Of_Sonar_Returns_Evaluate_Larger_Network.ipynb\" target=\"_parent\"><img src=\"https://colab.research.google.com/assets/colab-badge.svg\" alt=\"Open In Colab\"/></a>"
      ]
    },
    {
      "cell_type": "markdown",
      "source": [
        "Update To Use a Larger Network Topology"
      ],
      "metadata": {
        "id": "mZNjCBQphoqa"
      }
    },
    {
      "cell_type": "code",
      "execution_count": 1,
      "metadata": {
        "colab": {
          "base_uri": "https://localhost:8080/"
        },
        "id": "T1Cw64aAg3HQ",
        "outputId": "329cfc95-46c7-47c4-dd89-5c22265984a8"
      },
      "outputs": [
        {
          "output_type": "stream",
          "name": "stdout",
          "text": [
            "Smaller: 86.48% (6.97%)\n"
          ]
        }
      ],
      "source": [
        "# Binary Classification with Sonar Dataset: Standardized Larger\n",
        "import numpy\n",
        "import pandas\n",
        "from keras.models import Sequential\n",
        "from keras.layers import Dense\n",
        "from keras.wrappers.scikit_learn import KerasClassifier\n",
        "from sklearn.model_selection import cross_val_score\n",
        "from sklearn.preprocessing import LabelEncoder\n",
        "from sklearn.model_selection import StratifiedKFold\n",
        "from sklearn.preprocessing import StandardScaler\n",
        "from sklearn.pipeline import Pipeline\n",
        "import warnings\n",
        "warnings.filterwarnings('ignore')\n",
        "# fix random seed for reproducibility\n",
        "seed = 7\n",
        "numpy.random.seed(seed)\n",
        "# load dataset\n",
        "dataframe = pandas.read_csv('http://archive.ics.uci.edu/ml/machine-learning-databases/undocumented/connectionist-bench/sonar/sonar.all-data',\n",
        "                            header=None)\n",
        "dataset = dataframe.values\n",
        "# split into input (X) and output (Y) variables\n",
        "X = dataset[:,0:60].astype(float)\n",
        "Y = dataset[:,60]\n",
        "# encode class values as integers\n",
        "encoder = LabelEncoder()\n",
        "encoder.fit(Y)\n",
        "encoded_Y = encoder.transform(Y)\n",
        "# smaller model\n",
        "def create_smaller():\n",
        "  #Create model\n",
        "  model=Sequential()\n",
        "  model.add(Dense(60, input_dim=60, kernel_initializer='normal', activation='relu')) \n",
        "  model.add(Dense(30, kernel_initializer='normal', activation='relu'))\n",
        "  model.add(Dense(1, kernel_initializer='normal', activation='sigmoid'))\n",
        "  #Compile model\n",
        "  model.compile(loss='binary_crossentropy', optimizer='adam', metrics=['accuracy'])\n",
        "  return model\n",
        "\n",
        "\n",
        "numpy.random.seed(seed)\n",
        "estimators=[]\n",
        "estimators.append(('standardize',StandardScaler()))\n",
        "estimators.append(('mlp', KerasClassifier(build_fn=create_smaller, epochs=100, batch_size=5, verbose=0)))\n",
        "pipeline=Pipeline(estimators) \n",
        "kfold=StratifiedKFold(n_splits=10, shuffle=True, random_state=seed)\n",
        "results=cross_val_score(pipeline, X, encoded_Y, cv=kfold) \n",
        "print(\"Smaller: %.2f%% (%.2f%%)\" % (results.mean()*100, results.std()*100))           "
      ]
    }
  ]
}